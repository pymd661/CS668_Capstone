{
 "cells": [
  {
   "cell_type": "markdown",
   "id": "c24cb83f",
   "metadata": {
    "vscode": {
     "languageId": "plaintext"
    }
   },
   "source": [
    "# Data Clean Up"
   ]
  },
  {
   "cell_type": "markdown",
   "id": "36ca92f0",
   "metadata": {},
   "source": [
    "Libraries"
   ]
  },
  {
   "cell_type": "code",
   "execution_count": 16,
   "id": "bc48a1df",
   "metadata": {},
   "outputs": [],
   "source": [
    "import pandas as pd\n",
    "import pandas_datareader.data as web\n",
    "import yfinance as yf\n",
    "import datetime\n",
    "import numpy as np\n",
    "import xlwings as xw\n",
    "from pathlib import Path\n",
    "import fred_functions as ff\n",
    "import index_prices as ip\n",
    "import functions as fp"
   ]
  },
  {
   "cell_type": "markdown",
   "id": "706306d7",
   "metadata": {},
   "source": [
    "### ETF Daily Returns"
   ]
  },
  {
   "cell_type": "markdown",
   "id": "cd9d1b15",
   "metadata": {},
   "source": [
    "Import ETF file"
   ]
  },
  {
   "cell_type": "code",
   "execution_count": 17,
   "id": "e53e345a",
   "metadata": {},
   "outputs": [],
   "source": [
    "df_prices = pd.read_excel('../df_returns.xlsx',index_col=0,sheet_name='Sheet1')"
   ]
  },
  {
   "cell_type": "markdown",
   "id": "a59c4304",
   "metadata": {},
   "source": [
    "The index funds \"SPY\" and \"VBMFX\" will be used for this project. \n",
    "\n",
    "SPY is an exchange-traded fund that tracks the performance of the S&P 500.\n",
    "SPY inception was in 1993 while \n",
    "VBMFX is a mutual fund that tracks the eprformance of the Bloomberg U.S. Aggregate Float Adjusted Index.\n",
    "VBMFX was started in 1986."
   ]
  },
  {
   "cell_type": "code",
   "execution_count": 18,
   "id": "c83401b3",
   "metadata": {},
   "outputs": [],
   "source": [
    "df_prices = df_prices[['SPY','VBMFX']] # select tickets\n",
    "# df = df.loc['1993-02-01':'2025-09-30'] # filter for dates\n",
    "df_prices.index = pd.to_datetime(df_prices.index)\n",
    "df_prices = df_prices.sort_index() # sorting\n",
    "df_prices = df_prices.resample(\"ME\").last().dropna(how='all') # get the month end data, dropnas\n",
    "df_simple_returns = df_prices.pct_change().dropna(how='all') # find the percent change from the prev month, dropnas\n",
    "df_cumm_returns = ip.cummulative_return(df_simple_returns,['SPY','VBMFX'])\n",
    "df_ln_returns = ip.ln_return(df_simple_returns,['SPY','VBMFX'])\n",
    "df_funds = df_cumm_returns.combine_first(df_ln_returns).sort_index()\n",
    "df_funds = df_funds.rename(columns={'SPY':\"SPY_mom\",'VBMFX':\"VBMFX_mom\"})\n",
    "df_funds = df_funds.combine_first(df_prices).sort_index()\n",
    "# drop SPY and VBMFX since its showing percentages and replace with prices\n"
   ]
  },
  {
   "cell_type": "code",
   "execution_count": 19,
   "id": "d8e0578b",
   "metadata": {},
   "outputs": [
    {
     "data": {
      "text/html": [
       "<div>\n",
       "<style scoped>\n",
       "    .dataframe tbody tr th:only-of-type {\n",
       "        vertical-align: middle;\n",
       "    }\n",
       "\n",
       "    .dataframe tbody tr th {\n",
       "        vertical-align: top;\n",
       "    }\n",
       "\n",
       "    .dataframe thead th {\n",
       "        text-align: right;\n",
       "    }\n",
       "</style>\n",
       "<table border=\"1\" class=\"dataframe\">\n",
       "  <thead>\n",
       "    <tr style=\"text-align: right;\">\n",
       "      <th></th>\n",
       "      <th>SPY</th>\n",
       "      <th>SPY_3m</th>\n",
       "      <th>SPY_3m_ann</th>\n",
       "      <th>SPY_3m_ann_sd</th>\n",
       "      <th>SPY_3m_sd</th>\n",
       "      <th>SPY_ann_ln_3m</th>\n",
       "      <th>SPY_ln_3m</th>\n",
       "      <th>SPY_mom</th>\n",
       "      <th>VBMFX</th>\n",
       "      <th>VBMFX_3m</th>\n",
       "      <th>VBMFX_3m_ann</th>\n",
       "      <th>VBMFX_3m_ann_sd</th>\n",
       "      <th>VBMFX_3m_sd</th>\n",
       "      <th>VBMFX_ann_ln_3m</th>\n",
       "      <th>VBMFX_ln_3m</th>\n",
       "      <th>VBMFX_mom</th>\n",
       "    </tr>\n",
       "    <tr>\n",
       "      <th>Date</th>\n",
       "      <th></th>\n",
       "      <th></th>\n",
       "      <th></th>\n",
       "      <th></th>\n",
       "      <th></th>\n",
       "      <th></th>\n",
       "      <th></th>\n",
       "      <th></th>\n",
       "      <th></th>\n",
       "      <th></th>\n",
       "      <th></th>\n",
       "      <th></th>\n",
       "      <th></th>\n",
       "      <th></th>\n",
       "      <th></th>\n",
       "      <th></th>\n",
       "    </tr>\n",
       "  </thead>\n",
       "  <tbody>\n",
       "    <tr>\n",
       "      <th>1986-12-31</th>\n",
       "      <td>NaN</td>\n",
       "      <td>NaN</td>\n",
       "      <td>NaN</td>\n",
       "      <td>NaN</td>\n",
       "      <td>NaN</td>\n",
       "      <td>NaN</td>\n",
       "      <td>NaN</td>\n",
       "      <td>NaN</td>\n",
       "      <td>1.420026</td>\n",
       "      <td>NaN</td>\n",
       "      <td>NaN</td>\n",
       "      <td>NaN</td>\n",
       "      <td>NaN</td>\n",
       "      <td>NaN</td>\n",
       "      <td>NaN</td>\n",
       "      <td>NaN</td>\n",
       "    </tr>\n",
       "    <tr>\n",
       "      <th>1987-01-31</th>\n",
       "      <td>NaN</td>\n",
       "      <td>NaN</td>\n",
       "      <td>NaN</td>\n",
       "      <td>NaN</td>\n",
       "      <td>NaN</td>\n",
       "      <td>NaN</td>\n",
       "      <td>NaN</td>\n",
       "      <td>NaN</td>\n",
       "      <td>1.438512</td>\n",
       "      <td>NaN</td>\n",
       "      <td>NaN</td>\n",
       "      <td>NaN</td>\n",
       "      <td>NaN</td>\n",
       "      <td>NaN</td>\n",
       "      <td>0.012934</td>\n",
       "      <td>0.013018</td>\n",
       "    </tr>\n",
       "    <tr>\n",
       "      <th>1987-02-28</th>\n",
       "      <td>NaN</td>\n",
       "      <td>NaN</td>\n",
       "      <td>NaN</td>\n",
       "      <td>NaN</td>\n",
       "      <td>NaN</td>\n",
       "      <td>NaN</td>\n",
       "      <td>NaN</td>\n",
       "      <td>NaN</td>\n",
       "      <td>1.446386</td>\n",
       "      <td>NaN</td>\n",
       "      <td>NaN</td>\n",
       "      <td>NaN</td>\n",
       "      <td>NaN</td>\n",
       "      <td>NaN</td>\n",
       "      <td>0.005458</td>\n",
       "      <td>0.005473</td>\n",
       "    </tr>\n",
       "    <tr>\n",
       "      <th>1987-03-31</th>\n",
       "      <td>NaN</td>\n",
       "      <td>NaN</td>\n",
       "      <td>NaN</td>\n",
       "      <td>NaN</td>\n",
       "      <td>NaN</td>\n",
       "      <td>NaN</td>\n",
       "      <td>NaN</td>\n",
       "      <td>NaN</td>\n",
       "      <td>1.437078</td>\n",
       "      <td>0.012009</td>\n",
       "      <td>0.048907</td>\n",
       "      <td>0.019615</td>\n",
       "      <td>0.009808</td>\n",
       "      <td>0.047748</td>\n",
       "      <td>-0.006455</td>\n",
       "      <td>-0.006435</td>\n",
       "    </tr>\n",
       "    <tr>\n",
       "      <th>1987-04-30</th>\n",
       "      <td>NaN</td>\n",
       "      <td>NaN</td>\n",
       "      <td>NaN</td>\n",
       "      <td>NaN</td>\n",
       "      <td>NaN</td>\n",
       "      <td>NaN</td>\n",
       "      <td>NaN</td>\n",
       "      <td>NaN</td>\n",
       "      <td>1.391309</td>\n",
       "      <td>-0.032814</td>\n",
       "      <td>-0.124936</td>\n",
       "      <td>0.038128</td>\n",
       "      <td>0.019064</td>\n",
       "      <td>-0.133458</td>\n",
       "      <td>-0.032367</td>\n",
       "      <td>-0.031849</td>\n",
       "    </tr>\n",
       "    <tr>\n",
       "      <th>...</th>\n",
       "      <td>...</td>\n",
       "      <td>...</td>\n",
       "      <td>...</td>\n",
       "      <td>...</td>\n",
       "      <td>...</td>\n",
       "      <td>...</td>\n",
       "      <td>...</td>\n",
       "      <td>...</td>\n",
       "      <td>...</td>\n",
       "      <td>...</td>\n",
       "      <td>...</td>\n",
       "      <td>...</td>\n",
       "      <td>...</td>\n",
       "      <td>...</td>\n",
       "      <td>...</td>\n",
       "      <td>...</td>\n",
       "    </tr>\n",
       "    <tr>\n",
       "      <th>2025-05-31</th>\n",
       "      <td>586.028015</td>\n",
       "      <td>-0.005078</td>\n",
       "      <td>-0.020156</td>\n",
       "      <td>0.119402</td>\n",
       "      <td>0.059701</td>\n",
       "      <td>-0.020362</td>\n",
       "      <td>0.060949</td>\n",
       "      <td>0.062845</td>\n",
       "      <td>9.439227</td>\n",
       "      <td>-0.002884</td>\n",
       "      <td>-0.011485</td>\n",
       "      <td>0.011429</td>\n",
       "      <td>0.005714</td>\n",
       "      <td>-0.011551</td>\n",
       "      <td>-0.007151</td>\n",
       "      <td>-0.007126</td>\n",
       "    </tr>\n",
       "    <tr>\n",
       "      <th>2025-06-30</th>\n",
       "      <td>616.141785</td>\n",
       "      <td>0.107772</td>\n",
       "      <td>0.505918</td>\n",
       "      <td>0.076822</td>\n",
       "      <td>0.038411</td>\n",
       "      <td>0.409403</td>\n",
       "      <td>0.050110</td>\n",
       "      <td>0.051386</td>\n",
       "      <td>9.587547</td>\n",
       "      <td>0.012662</td>\n",
       "      <td>0.051619</td>\n",
       "      <td>0.022839</td>\n",
       "      <td>0.011420</td>\n",
       "      <td>0.050331</td>\n",
       "      <td>0.015591</td>\n",
       "      <td>0.015713</td>\n",
       "    </tr>\n",
       "    <tr>\n",
       "      <th>2025-07-31</th>\n",
       "      <td>630.332458</td>\n",
       "      <td>0.143197</td>\n",
       "      <td>0.707987</td>\n",
       "      <td>0.040991</td>\n",
       "      <td>0.020495</td>\n",
       "      <td>0.535316</td>\n",
       "      <td>0.022770</td>\n",
       "      <td>0.023032</td>\n",
       "      <td>9.558923</td>\n",
       "      <td>0.005465</td>\n",
       "      <td>0.022039</td>\n",
       "      <td>0.024336</td>\n",
       "      <td>0.012168</td>\n",
       "      <td>0.021800</td>\n",
       "      <td>-0.002990</td>\n",
       "      <td>-0.002986</td>\n",
       "    </tr>\n",
       "    <tr>\n",
       "      <th>2025-08-31</th>\n",
       "      <td>643.266602</td>\n",
       "      <td>0.097672</td>\n",
       "      <td>0.451746</td>\n",
       "      <td>0.034284</td>\n",
       "      <td>0.017142</td>\n",
       "      <td>0.372767</td>\n",
       "      <td>0.020312</td>\n",
       "      <td>0.020520</td>\n",
       "      <td>9.669253</td>\n",
       "      <td>0.024369</td>\n",
       "      <td>0.101098</td>\n",
       "      <td>0.019632</td>\n",
       "      <td>0.009816</td>\n",
       "      <td>0.096308</td>\n",
       "      <td>0.011476</td>\n",
       "      <td>0.011542</td>\n",
       "    </tr>\n",
       "    <tr>\n",
       "      <th>2025-09-30</th>\n",
       "      <td>666.179993</td>\n",
       "      <td>0.081212</td>\n",
       "      <td>0.366607</td>\n",
       "      <td>0.016183</td>\n",
       "      <td>0.008091</td>\n",
       "      <td>0.312331</td>\n",
       "      <td>0.035001</td>\n",
       "      <td>0.035620</td>\n",
       "      <td>9.770000</td>\n",
       "      <td>0.019030</td>\n",
       "      <td>0.078321</td>\n",
       "      <td>0.016166</td>\n",
       "      <td>0.008083</td>\n",
       "      <td>0.075406</td>\n",
       "      <td>0.010365</td>\n",
       "      <td>0.010419</td>\n",
       "    </tr>\n",
       "  </tbody>\n",
       "</table>\n",
       "<p>466 rows × 16 columns</p>\n",
       "</div>"
      ],
      "text/plain": [
       "                   SPY    SPY_3m  SPY_3m_ann  SPY_3m_ann_sd  SPY_3m_sd  \\\n",
       "Date                                                                     \n",
       "1986-12-31         NaN       NaN         NaN            NaN        NaN   \n",
       "1987-01-31         NaN       NaN         NaN            NaN        NaN   \n",
       "1987-02-28         NaN       NaN         NaN            NaN        NaN   \n",
       "1987-03-31         NaN       NaN         NaN            NaN        NaN   \n",
       "1987-04-30         NaN       NaN         NaN            NaN        NaN   \n",
       "...                ...       ...         ...            ...        ...   \n",
       "2025-05-31  586.028015 -0.005078   -0.020156       0.119402   0.059701   \n",
       "2025-06-30  616.141785  0.107772    0.505918       0.076822   0.038411   \n",
       "2025-07-31  630.332458  0.143197    0.707987       0.040991   0.020495   \n",
       "2025-08-31  643.266602  0.097672    0.451746       0.034284   0.017142   \n",
       "2025-09-30  666.179993  0.081212    0.366607       0.016183   0.008091   \n",
       "\n",
       "            SPY_ann_ln_3m  SPY_ln_3m   SPY_mom     VBMFX  VBMFX_3m  \\\n",
       "Date                                                                 \n",
       "1986-12-31            NaN        NaN       NaN  1.420026       NaN   \n",
       "1987-01-31            NaN        NaN       NaN  1.438512       NaN   \n",
       "1987-02-28            NaN        NaN       NaN  1.446386       NaN   \n",
       "1987-03-31            NaN        NaN       NaN  1.437078  0.012009   \n",
       "1987-04-30            NaN        NaN       NaN  1.391309 -0.032814   \n",
       "...                   ...        ...       ...       ...       ...   \n",
       "2025-05-31      -0.020362   0.060949  0.062845  9.439227 -0.002884   \n",
       "2025-06-30       0.409403   0.050110  0.051386  9.587547  0.012662   \n",
       "2025-07-31       0.535316   0.022770  0.023032  9.558923  0.005465   \n",
       "2025-08-31       0.372767   0.020312  0.020520  9.669253  0.024369   \n",
       "2025-09-30       0.312331   0.035001  0.035620  9.770000  0.019030   \n",
       "\n",
       "            VBMFX_3m_ann  VBMFX_3m_ann_sd  VBMFX_3m_sd  VBMFX_ann_ln_3m  \\\n",
       "Date                                                                      \n",
       "1986-12-31           NaN              NaN          NaN              NaN   \n",
       "1987-01-31           NaN              NaN          NaN              NaN   \n",
       "1987-02-28           NaN              NaN          NaN              NaN   \n",
       "1987-03-31      0.048907         0.019615     0.009808         0.047748   \n",
       "1987-04-30     -0.124936         0.038128     0.019064        -0.133458   \n",
       "...                  ...              ...          ...              ...   \n",
       "2025-05-31     -0.011485         0.011429     0.005714        -0.011551   \n",
       "2025-06-30      0.051619         0.022839     0.011420         0.050331   \n",
       "2025-07-31      0.022039         0.024336     0.012168         0.021800   \n",
       "2025-08-31      0.101098         0.019632     0.009816         0.096308   \n",
       "2025-09-30      0.078321         0.016166     0.008083         0.075406   \n",
       "\n",
       "            VBMFX_ln_3m  VBMFX_mom  \n",
       "Date                                \n",
       "1986-12-31          NaN        NaN  \n",
       "1987-01-31     0.012934   0.013018  \n",
       "1987-02-28     0.005458   0.005473  \n",
       "1987-03-31    -0.006455  -0.006435  \n",
       "1987-04-30    -0.032367  -0.031849  \n",
       "...                 ...        ...  \n",
       "2025-05-31    -0.007151  -0.007126  \n",
       "2025-06-30     0.015591   0.015713  \n",
       "2025-07-31    -0.002990  -0.002986  \n",
       "2025-08-31     0.011476   0.011542  \n",
       "2025-09-30     0.010365   0.010419  \n",
       "\n",
       "[466 rows x 16 columns]"
      ]
     },
     "execution_count": 19,
     "metadata": {},
     "output_type": "execute_result"
    }
   ],
   "source": [
    "df_funds"
   ]
  },
  {
   "cell_type": "markdown",
   "id": "8c50b138",
   "metadata": {},
   "source": [
    "## Macro Indicators (FRED)"
   ]
  },
  {
   "cell_type": "markdown",
   "id": "c8c489e7",
   "metadata": {},
   "source": [
    "import macro File"
   ]
  },
  {
   "cell_type": "code",
   "execution_count": 20,
   "id": "646c2c00",
   "metadata": {},
   "outputs": [],
   "source": [
    "df_macro = pd.read_excel('../df_macro.xlsx',index_col=0,sheet_name='Sheet1')\n",
    "# df_macro = df_macro.loc['1990-01-01':'2025-09-30'] # filter for dates"
   ]
  },
  {
   "cell_type": "markdown",
   "id": "35e0a4f3",
   "metadata": {},
   "source": [
    "### GDP Data Preprocessing\n",
    "\n",
    "To prepare quarterly GDP data for our model, we perform a two-step process to handle its frequency and reporting lag:\n",
    "\n",
    "1.  Resample to Monthly Frequency: Since GDP is released quarterly, we first resample it to a monthly series. This is done using a forward-fill (`ffill`) method, where the GDP value for a given quarter is applied to each month within that quarter. For example, the Q1 GDP value is used for January, February, and March.\n",
    "\n",
    "2.  Simulate Reporting Lag: In practice, GDP figures are not known in real-time (January's final GDP might not be available until April). To simulate this delay and prevent lookahead bias, we shift the resampled monthly data forward by 3 months."
   ]
  },
  {
   "cell_type": "code",
   "execution_count": 21,
   "id": "c2179f88",
   "metadata": {},
   "outputs": [],
   "source": [
    "df_gdp = ff.forward_fill(df_macro[['RealGDP']].copy())\n",
    "df_gdp = ff.resample_me(df_gdp)\n",
    "df_gdp = ff.yoy_change(df_gdp)\n",
    "# df_gdp_lag1 = ff.shift_lag(df_gdp,lag_months=1).rename(columns={\"RealGDP\":\"RealGDP_1m\"})\n",
    "# df_gdp_lag2 = ff.shift_lag(df_gdp,lag_months=2).rename(columns={\"RealGDP\":\"RealGDP_2m\"})\n",
    "df_gdp_lag3 = ff.shift_lag(df_gdp,lag_months=3).rename(columns={\"RealGDP\":\"RealGDP_3m\"})\n",
    "# df_gdp_lag4 = ff.shift_lag(df_gdp,lag_months=4).rename(columns={\"RealGDP\":\"RealGDP_4m\"})\n",
    "# df_gdp_clean = df_gdp.join([df_gdp_lag1, df_gdp_lag2,df_gdp_lag3,df_gdp_lag4], how='inner') # use this to join the lag_df\n",
    "df_gdp_clean = df_gdp.join([df_gdp_lag3], how='inner') # only using lag3"
   ]
  },
  {
   "cell_type": "markdown",
   "id": "5f6417aa",
   "metadata": {},
   "source": [
    "### Permits, CPI, CoreCPI, IndustrialProd, RealRetail\n"
   ]
  },
  {
   "cell_type": "code",
   "execution_count": 22,
   "id": "076295bb",
   "metadata": {},
   "outputs": [],
   "source": [
    "indicator_index_cols = ['Permits','CPI','CoreCPI','IndustrialProd','RealRetail'] # select columns to update\n",
    "df_indicator_index = df_macro[indicator_index_cols].copy() # make a copy\n",
    "df_indicator_index = ff.resample_me(df_indicator_index) # get month-end indices\n",
    "df_lag1_indicator_index = ff.shift_lag(df_indicator_index,lag_months=1) #shift by 1 to account for information lag\n",
    "# dictionary to rename original numbers to \"_lag1\"\n",
    "col_rename_indicator_index = {\n",
    "    'Permits':'Permits_1m',\n",
    "    'CPI':'CPI_1m',\n",
    "    'CoreCPI':'CoreCPI_1m',\n",
    "    'IndustrialProd':'IndustrialProd_1m',\n",
    "    'RealRetail':'RealRetail_1m'\n",
    "}\n",
    "col_rename_yoy = {\n",
    "    'Permits_1m':'Permits_1m_yoy',\n",
    "    'CPI_1m':'CPI_1m_yoy',\n",
    "    'CoreCPI_1m':'CoreCPI_1m_yoy',\n",
    "    'IndustrialProd_1m':'IndustrialProd_1m_yoy',\n",
    "    'RealRetail_1m':'RealRetail_1m_yoy'\n",
    "}\n",
    "ff.rename_columns(df_lag1_indicator_index,col_rename_indicator_index) #ff to rename columns using the dict above\n",
    "df_indicator_yoy = ff.yoy_change(df_lag1_indicator_index) # ff for year over year change\n",
    "ff.rename_columns(df_indicator_yoy,col_rename_yoy) # rename yoy columns\n",
    "df_indicator_mom = ff.mom_change(df_lag1_indicator_index) ## ff for month-over-month change\n",
    "df_indicator_mom = ff.rolling_3m(df_indicator_mom,df_indicator_mom.columns) # ff to calculate 3month rolling avg, and also annualized 3month rolling avg\n",
    "df_indicator_clean = df_indicator_index.join([df_indicator_yoy,df_indicator_mom], how='inner')"
   ]
  },
  {
   "cell_type": "markdown",
   "id": "1b697d53",
   "metadata": {},
   "source": [
    "### Unemployment"
   ]
  },
  {
   "cell_type": "code",
   "execution_count": 23,
   "id": "a5411f61",
   "metadata": {},
   "outputs": [],
   "source": [
    "df_unemployment = df_macro[[\"UnemploymentRate\"]].copy()\n",
    "df_unemployment = ff.forward_fill(df_unemployment)\n",
    "df_unemployment = ff.resample_me(df_unemployment)\n",
    "df_unemployment_1m = ff.shift_lag(df_unemployment,lag_months=1)\n",
    "df_unemployment_1m = ff.mom_change(df_unemployment_1m)\n",
    "df_unemployment_clean = ff.rolling_3m(df_unemployment_1m,df_unemployment_1m.columns)"
   ]
  },
  {
   "cell_type": "markdown",
   "id": "88d41eeb",
   "metadata": {},
   "source": [
    "### "
   ]
  },
  {
   "cell_type": "markdown",
   "id": "696e485f",
   "metadata": {},
   "source": [
    "### Rates - Mortgage 30 Year, US 10 YR Treasury, US 2 Year Treasury, US 3 Month Treasury, TIPS10 YR, CorpBAA, CorpAAA, FedFunsRate"
   ]
  },
  {
   "cell_type": "code",
   "execution_count": 24,
   "id": "ec0e1e74",
   "metadata": {},
   "outputs": [],
   "source": [
    "df_rate_clean = ff.credit_spread(df_macro,lag_months=0,delta_calc=True)\n",
    "# col_remove = ['Mort30Y', 'UST10Y', 'UST2Y', 'UST3M', 'CorpBAA', 'CorpAAA','FedFundsRate']\n",
    "# df_rate_clean.drop(columns=col_remove,inplace=True)"
   ]
  },
  {
   "cell_type": "markdown",
   "id": "be2e20a9",
   "metadata": {},
   "source": [
    "### Combine all macro features"
   ]
  },
  {
   "cell_type": "code",
   "execution_count": 25,
   "id": "cd43c848",
   "metadata": {},
   "outputs": [],
   "source": [
    "df_macro_clean = (\n",
    "    df_gdp_clean.combine_first(df_indicator_clean)\n",
    "       .combine_first(df_unemployment_clean)\n",
    "       .combine_first(df_rate_clean)\n",
    "       .sort_index()\n",
    ")"
   ]
  },
  {
   "cell_type": "markdown",
   "id": "00381bd0",
   "metadata": {},
   "source": [
    "### Combine index fund df and macro df"
   ]
  },
  {
   "cell_type": "code",
   "execution_count": 26,
   "id": "03678df9",
   "metadata": {},
   "outputs": [],
   "source": [
    "df_clean =(\n",
    "    df_funds.combine_first(df_macro_clean)\n",
    "    .sort_index()\n",
    ")"
   ]
  },
  {
   "cell_type": "code",
   "execution_count": 27,
   "id": "4acab54b",
   "metadata": {},
   "outputs": [
    {
     "data": {
      "text/plain": [
       "(490, 79)"
      ]
     },
     "execution_count": 27,
     "metadata": {},
     "output_type": "execute_result"
    }
   ],
   "source": [
    "df_clean.shape"
   ]
  },
  {
   "cell_type": "markdown",
   "id": "7146ef51",
   "metadata": {},
   "source": [
    "### Rearrange column"
   ]
  },
  {
   "cell_type": "code",
   "execution_count": 28,
   "id": "71087535",
   "metadata": {},
   "outputs": [
    {
     "name": "stdout",
     "output_type": "stream",
     "text": [
      "79\n"
     ]
    }
   ],
   "source": [
    "column_order = fp.column_order()\n",
    "print(len(column_order))\n",
    "df_clean = df_clean[column_order]"
   ]
  },
  {
   "cell_type": "markdown",
   "id": "6673e60d",
   "metadata": {},
   "source": [
    "### Filter data"
   ]
  },
  {
   "cell_type": "code",
   "execution_count": 29,
   "id": "988e131b",
   "metadata": {},
   "outputs": [],
   "source": [
    "df_clean = df_clean.loc['1993-04-01':'2025-09-30'] # filter for dates"
   ]
  },
  {
   "cell_type": "markdown",
   "id": "99c354a7",
   "metadata": {},
   "source": [
    "### Export data to excel"
   ]
  },
  {
   "cell_type": "code",
   "execution_count": null,
   "id": "6d1deea7",
   "metadata": {},
   "outputs": [],
   "source": [
    "def to_excel(df,file_name):\n",
    "    out = Path.home() /\"Documents\"/\"cs668\"/\"CS668_Capstone\"/file_name\n",
    "    df.to_excel(out, index=True)  # index=True is default; keep if you want the index\n",
    "\n",
    "# Call to_excel function to save as excel\n",
    "# to_excel(df_clean,\"df_SPY_VBMFX_Macro_Signals.xlsx\")\n"
   ]
  },
  {
   "cell_type": "code",
   "execution_count": null,
   "id": "08ae055a",
   "metadata": {},
   "outputs": [],
   "source": []
  }
 ],
 "metadata": {
  "kernelspec": {
   "display_name": "Python 3",
   "language": "python",
   "name": "python3"
  },
  "language_info": {
   "codemirror_mode": {
    "name": "ipython",
    "version": 3
   },
   "file_extension": ".py",
   "mimetype": "text/x-python",
   "name": "python",
   "nbconvert_exporter": "python",
   "pygments_lexer": "ipython3",
   "version": "3.11.2"
  }
 },
 "nbformat": 4,
 "nbformat_minor": 5
}
