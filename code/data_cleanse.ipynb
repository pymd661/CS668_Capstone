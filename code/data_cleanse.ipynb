{
 "cells": [
  {
   "cell_type": "markdown",
   "id": "c24cb83f",
   "metadata": {
    "vscode": {
     "languageId": "plaintext"
    }
   },
   "source": [
    "# Data Clean Up"
   ]
  },
  {
   "cell_type": "markdown",
   "id": "36ca92f0",
   "metadata": {},
   "source": [
    "Libraries"
   ]
  },
  {
   "cell_type": "code",
   "execution_count": 1,
   "id": "bc48a1df",
   "metadata": {},
   "outputs": [],
   "source": [
    "import pandas as pd\n",
    "import pandas_datareader.data as web\n",
    "import yfinance as yf\n",
    "import datetime\n",
    "import numpy as np\n",
    "import xlwings as xw\n",
    "from pathlib import Path\n",
    "import fred_functions as ff"
   ]
  },
  {
   "cell_type": "markdown",
   "id": "706306d7",
   "metadata": {},
   "source": [
    "### ETF Daily Returns"
   ]
  },
  {
   "cell_type": "markdown",
   "id": "cd9d1b15",
   "metadata": {},
   "source": [
    "Import ETF file"
   ]
  },
  {
   "cell_type": "code",
   "execution_count": 2,
   "id": "e53e345a",
   "metadata": {},
   "outputs": [],
   "source": [
    "df_returns = pd.read_excel('../df_returns.xlsx',index_col=0,sheet_name='Sheet1')"
   ]
  },
  {
   "cell_type": "markdown",
   "id": "a59c4304",
   "metadata": {},
   "source": [
    "Select \"SPY\" and \"VBMFX\". SPY inception was in 1993 while VBMFX was started in 1986. The data set will cover dates from February 1, 1993 to September 30, 2025"
   ]
  },
  {
   "cell_type": "code",
   "execution_count": 3,
   "id": "c83401b3",
   "metadata": {},
   "outputs": [],
   "source": [
    "df = df_returns[['SPY','VBMFX']] # select tickets\n",
    "# df = df.loc['1993-02-01':'2025-09-30'] # filter for dates\n",
    "df = df.resample(\"ME\").last().dropna(how='all') # get the month end data, dropnas\n",
    "df_simple_returns = df.pct_change().dropna(how='all') # find the percent change from the prev month, dropnas\n",
    "df_log_returns = np.log(df/df.shift(1)).dropna(how=\"all\") # calc log returns, just in case we need it"
   ]
  },
  {
   "cell_type": "markdown",
   "id": "8c50b138",
   "metadata": {},
   "source": [
    "## Macro Indicators (FRED)"
   ]
  },
  {
   "cell_type": "markdown",
   "id": "c8c489e7",
   "metadata": {},
   "source": [
    "import macro File"
   ]
  },
  {
   "cell_type": "code",
   "execution_count": 4,
   "id": "646c2c00",
   "metadata": {},
   "outputs": [],
   "source": [
    "df_macro = pd.read_excel('../df_macro.xlsx',index_col=0,sheet_name='Sheet1')\n",
    "# df_macro = df_macro.loc['1990-01-01':'2025-09-30'] # filter for dates"
   ]
  },
  {
   "cell_type": "markdown",
   "id": "35e0a4f3",
   "metadata": {},
   "source": [
    "### GDP Data Preprocessing\n",
    "\n",
    "To prepare quarterly GDP data for our model, we perform a two-step process to handle its frequency and reporting lag:\n",
    "\n",
    "1.  **Resample to Monthly Frequency:** Since GDP is released **quarterly**, we first resample it to a monthly series. This is done using a **forward-fill** (`ffill`) method, where the GDP value for a given quarter is applied to each month within that quarter. For example, the Q1 GDP value is used for January, February, and March.\n",
    "\n",
    "2.  **Simulate Reporting Lag:** In practice, GDP figures are not known in real-time (e.g., January's final GDP might not be available until April). To simulate this delay and prevent lookahead bias, we **shift** the resampled monthly data forward. We will create four lagged features: a 1-month lag ,2-month lag, 3-month lag, and a 4-month lag."
   ]
  },
  {
   "cell_type": "code",
   "execution_count": 5,
   "id": "c2179f88",
   "metadata": {},
   "outputs": [],
   "source": [
    "df_gdp = ff.forward_fill(df_macro[['RealGDP']].copy())\n",
    "df_gdp = ff.resample_me(df_gdp)\n",
    "df_gdp = ff.yoy_change(df_gdp)\n",
    "df_gdp_lag1 = ff.shift_lag(df_gdp,lag_months=1).rename(columns={\"RealGDP\":\"RealGDP_1m\"})\n",
    "df_gdp_lag2 = ff.shift_lag(df_gdp,lag_months=2).rename(columns={\"RealGDP\":\"RealGDP_2m\"})\n",
    "df_gdp_lag3 = ff.shift_lag(df_gdp,lag_months=3).rename(columns={\"RealGDP\":\"RealGDP_3m\"})\n",
    "df_gdp_lag4 = ff.shift_lag(df_gdp,lag_months=4).rename(columns={\"RealGDP\":\"RealGDP_4m\"})\n",
    "df_gdp_clean = df_gdp.join([df_gdp_lag1, df_gdp_lag2,df_gdp_lag3,df_gdp_lag4], how='inner')"
   ]
  },
  {
   "cell_type": "markdown",
   "id": "5f6417aa",
   "metadata": {},
   "source": [
    "### Permits, CPI, CoreCPI, IndustrialProd, RealRetail\n"
   ]
  },
  {
   "cell_type": "code",
   "execution_count": 6,
   "id": "076295bb",
   "metadata": {},
   "outputs": [],
   "source": [
    "indicator_index_cols = ['Permits','CPI','CoreCPI','IndustrialProd','RealRetail'] # select columns to update\n",
    "df_indicator_index = df_macro[indicator_index_cols].copy() # make a copy\n",
    "df_indicator_index = ff.resample_me(df_indicator_index) # get month-end indices\n",
    "df_lag1_indicator_index = ff.shift_lag(df_indicator_index,lag_months=1) #shift by 1 to account for information lag\n",
    "# dictionary to rename original numbers to \"_lag1\"\n",
    "col_rename_indicator_index = {\n",
    "    'Permits':'Permits_1m',\n",
    "    'CPI':'CPI_1m',\n",
    "    'CoreCPI':'CoreCPI_1m',\n",
    "    'IndustrialProd':'IndustrialProd_1m',\n",
    "    'RealRetail':'RealRetail_1m'\n",
    "}\n",
    "col_rename_yoy = {\n",
    "    'Permits_1m':'Permits_1m_yoy',\n",
    "    'CPI_1m':'CPI_1m_yoy',\n",
    "    'CoreCPI_1m':'CoreCPI_1m_yoy',\n",
    "    'IndustrialProd_1m':'IndustrialProd_1m_yoy',\n",
    "    'RealRetail_1m':'RealRetail_1m_yoy'\n",
    "}\n",
    "ff.rename_columns(df_lag1_indicator_index,col_rename_indicator_index) #ff to rename columns using the dict above\n",
    "df_indicator_yoy = ff.yoy_change(df_lag1_indicator_index) # ff for year over year change\n",
    "ff.rename_columns(df_indicator_yoy,col_rename_yoy) # rename yoy columns\n",
    "df_indicator_mom = ff.mom_change(df_lag1_indicator_index) ## ff for month-over-month change\n",
    "df_indicator_mom = ff.rolling_3m(df_indicator_mom,df_indicator_mom.columns) # ff to calculate 3month rolling avg, and also annualized 3month rolling avg\n",
    "df_indicator_clean = df_indicator_index.join([df_indicator_yoy,df_indicator_mom], how='inner')"
   ]
  },
  {
   "cell_type": "markdown",
   "id": "1b697d53",
   "metadata": {},
   "source": [
    "### Unemployment"
   ]
  },
  {
   "cell_type": "code",
   "execution_count": 9,
   "id": "a5411f61",
   "metadata": {},
   "outputs": [],
   "source": [
    "df_unemployment = df_macro[[\"UnemploymentRate\"]].copy()\n",
    "df_unemployment = ff.forward_fill(df_unemployment)\n",
    "df_unemployment = ff.resample_me(df_unemployment)\n",
    "df_unemployment_1m = ff.shift_lag(df_unemployment,lag_months=1)\n",
    "df_unemployment_1m = ff.mom_change(df_unemployment_1m)\n",
    "df_unemployment_clean = ff.rolling_3m(df_unemployment_1m,df_unemployment_1m.columns)"
   ]
  },
  {
   "cell_type": "markdown",
   "id": "88d41eeb",
   "metadata": {},
   "source": [
    "### "
   ]
  }
 ],
 "metadata": {
  "kernelspec": {
   "display_name": "Python 3",
   "language": "python",
   "name": "python3"
  },
  "language_info": {
   "codemirror_mode": {
    "name": "ipython",
    "version": 3
   },
   "file_extension": ".py",
   "mimetype": "text/x-python",
   "name": "python",
   "nbconvert_exporter": "python",
   "pygments_lexer": "ipython3",
   "version": "3.11.2"
  }
 },
 "nbformat": 4,
 "nbformat_minor": 5
}
