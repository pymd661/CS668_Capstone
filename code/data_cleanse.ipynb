{
 "cells": [
  {
   "cell_type": "markdown",
   "id": "c24cb83f",
   "metadata": {
    "vscode": {
     "languageId": "plaintext"
    }
   },
   "source": [
    "# Data Clean Up"
   ]
  },
  {
   "cell_type": "markdown",
   "id": "36ca92f0",
   "metadata": {},
   "source": [
    "Libraries"
   ]
  },
  {
   "cell_type": "code",
   "execution_count": 42,
   "id": "bc48a1df",
   "metadata": {},
   "outputs": [],
   "source": [
    "import pandas as pd\n",
    "import pandas_datareader.data as web\n",
    "import yfinance as yf\n",
    "import datetime\n",
    "import numpy as np\n",
    "import xlwings as xw\n",
    "from pathlib import Path\n",
    "import fred_functions as ff"
   ]
  },
  {
   "cell_type": "markdown",
   "id": "706306d7",
   "metadata": {},
   "source": [
    "### ETF Daily Returns"
   ]
  },
  {
   "cell_type": "markdown",
   "id": "cd9d1b15",
   "metadata": {},
   "source": [
    "Import ETF file"
   ]
  },
  {
   "cell_type": "code",
   "execution_count": 43,
   "id": "e53e345a",
   "metadata": {},
   "outputs": [],
   "source": [
    "df_returns = pd.read_excel('../df_returns.xlsx',index_col=0,sheet_name='Sheet1')"
   ]
  },
  {
   "cell_type": "markdown",
   "id": "a59c4304",
   "metadata": {},
   "source": [
    "Select \"SPY\" and \"VBMFX\". SPY inception was in 1993 while VBMFX was started in 1986. The data set will cover dates from February 1, 1993 to September 30, 2025"
   ]
  },
  {
   "cell_type": "code",
   "execution_count": 44,
   "id": "c83401b3",
   "metadata": {},
   "outputs": [],
   "source": [
    "df = df_returns[['SPY','VBMFX']] # select tickets\n",
    "# df = df.loc['1993-02-01':'2025-09-30'] # filter for dates\n",
    "df = df.resample(\"ME\").last().dropna(how='all') # get the month end data, dropnas\n",
    "df_simple_returns = df.pct_change().dropna(how='all') # find the percent change from the prev month, dropnas\n",
    "df_log_returns = np.log(df/df.shift(1)).dropna(how=\"all\") # calc log returns, just in case we need it"
   ]
  },
  {
   "cell_type": "markdown",
   "id": "8c50b138",
   "metadata": {},
   "source": [
    "## Macro Indicators (FRED)"
   ]
  },
  {
   "cell_type": "markdown",
   "id": "c8c489e7",
   "metadata": {},
   "source": [
    "import macro File"
   ]
  },
  {
   "cell_type": "code",
   "execution_count": 45,
   "id": "646c2c00",
   "metadata": {},
   "outputs": [],
   "source": [
    "df_macro = pd.read_excel('../df_macro.xlsx',index_col=0,sheet_name='Sheet1')\n",
    "# df_macro = df_macro.loc['1990-01-01':'2025-09-30'] # filter for dates"
   ]
  },
  {
   "cell_type": "markdown",
   "id": "35e0a4f3",
   "metadata": {},
   "source": [
    "### GDP Data Preprocessing\n",
    "\n",
    "To prepare quarterly GDP data for our model, we perform a two-step process to handle its frequency and reporting lag:\n",
    "\n",
    "1.  **Resample to Monthly Frequency:** Since GDP is released **quarterly**, we first resample it to a monthly series. This is done using a **forward-fill** (`ffill`) method, where the GDP value for a given quarter is applied to each month within that quarter. For example, the Q1 GDP value is used for January, February, and March.\n",
    "\n",
    "2.  **Simulate Reporting Lag:** In practice, GDP figures are not known in real-time (e.g., January's final GDP might not be available until April). To simulate this delay and prevent lookahead bias, we **shift** the resampled monthly data forward. We will create four lagged features: a 1-month lag ,2-month lag, 3-month lag, and a 4-month lag."
   ]
  },
  {
   "cell_type": "code",
   "execution_count": 46,
   "id": "c2179f88",
   "metadata": {},
   "outputs": [],
   "source": [
    "df_gdp = ff.forward_fill(df_macro[['RealGDP']].copy())\n",
    "df_gdp = ff.resample_me(df_gdp)\n",
    "df_gdp = ff.yoy_change(df_gdp)\n",
    "df_gdp_lag1 = ff.shift_lag(df_gdp,lag_months=1).rename(columns={\"RealGDP\":\"RealGDP_lag1\"})\n",
    "df_gdp_lag2 = ff.shift_lag(df_gdp,lag_months=2).rename(columns={\"RealGDP\":\"RealGDP_lag2\"})\n",
    "df_gdp_lag3 = ff.shift_lag(df_gdp,lag_months=3).rename(columns={\"RealGDP\":\"RealGDP_lag3\"})\n",
    "df_gdp_lag4 = ff.shift_lag(df_gdp,lag_months=4).rename(columns={\"RealGDP\":\"RealGDP_lag4\"})\n",
    "df_gdp_clean = df_gdp.join([df_gdp_lag1, df_gdp_lag2,df_gdp_lag3,df_gdp_lag4], how='inner')"
   ]
  },
  {
   "cell_type": "markdown",
   "id": "5f6417aa",
   "metadata": {},
   "source": [
    "### Permits, CPI, CoreCPI, IndustrialProd, RealRetail\n"
   ]
  },
  {
   "cell_type": "code",
   "execution_count": 47,
   "id": "076295bb",
   "metadata": {},
   "outputs": [
    {
     "name": "stderr",
     "output_type": "stream",
     "text": [
      "c:\\Users\\dorna\\Documents\\cs668\\CS668_Capstone\\code\\fred_functions.py:7: FutureWarning: The default fill_method='pad' in DataFrame.pct_change is deprecated and will be removed in a future version. Either fill in any non-leading NA values prior to calling pct_change or specify 'fill_method=None' to not fill NA values.\n",
      "  return df.pct_change(12)\n",
      "c:\\Users\\dorna\\Documents\\cs668\\CS668_Capstone\\code\\fred_functions.py:10: FutureWarning: The default fill_method='pad' in DataFrame.pct_change is deprecated and will be removed in a future version. Either fill in any non-leading NA values prior to calling pct_change or specify 'fill_method=None' to not fill NA values.\n",
      "  return df.pct_change(1)\n"
     ]
    }
   ],
   "source": [
    "indicator_index_cols = ['Permits','CPI','CoreCPI','IndustrialProd','RealRetail']\n",
    "df_indicator_index = df_macro[indicator_index_cols].copy()\n",
    "df_indicator_index = ff.resample_me(df_indicator_index)\n",
    "df_indicator_yoy = ff.yoy_change(df_indicator_index)\n",
    "df_indicator_mom = ff.mom_change(df_indicator_index)\n",
    "# df_indicator_index = ff.rolling_3m(df_indicator_index,indicator_index_cols)\n",
    "\n"
   ]
  },
  {
   "cell_type": "code",
   "execution_count": 48,
   "id": "662ff2b9",
   "metadata": {},
   "outputs": [
    {
     "data": {
      "text/html": [
       "<div>\n",
       "<style scoped>\n",
       "    .dataframe tbody tr th:only-of-type {\n",
       "        vertical-align: middle;\n",
       "    }\n",
       "\n",
       "    .dataframe tbody tr th {\n",
       "        vertical-align: top;\n",
       "    }\n",
       "\n",
       "    .dataframe thead th {\n",
       "        text-align: right;\n",
       "    }\n",
       "</style>\n",
       "<table border=\"1\" class=\"dataframe\">\n",
       "  <thead>\n",
       "    <tr style=\"text-align: right;\">\n",
       "      <th></th>\n",
       "      <th>Permits</th>\n",
       "      <th>CPI</th>\n",
       "      <th>CoreCPI</th>\n",
       "      <th>IndustrialProd</th>\n",
       "      <th>RealRetail</th>\n",
       "    </tr>\n",
       "    <tr>\n",
       "      <th>DATE</th>\n",
       "      <th></th>\n",
       "      <th></th>\n",
       "      <th></th>\n",
       "      <th></th>\n",
       "      <th></th>\n",
       "    </tr>\n",
       "  </thead>\n",
       "  <tbody>\n",
       "    <tr>\n",
       "      <th>1985-01-31</th>\n",
       "      <td>1660.0</td>\n",
       "      <td>105.700</td>\n",
       "      <td>107.100</td>\n",
       "      <td>54.5270</td>\n",
       "      <td>NaN</td>\n",
       "    </tr>\n",
       "    <tr>\n",
       "      <th>1985-02-28</th>\n",
       "      <td>1662.0</td>\n",
       "      <td>106.300</td>\n",
       "      <td>107.700</td>\n",
       "      <td>54.6871</td>\n",
       "      <td>NaN</td>\n",
       "    </tr>\n",
       "    <tr>\n",
       "      <th>1985-03-31</th>\n",
       "      <td>1727.0</td>\n",
       "      <td>106.800</td>\n",
       "      <td>108.100</td>\n",
       "      <td>54.7673</td>\n",
       "      <td>NaN</td>\n",
       "    </tr>\n",
       "    <tr>\n",
       "      <th>1985-04-30</th>\n",
       "      <td>1664.0</td>\n",
       "      <td>107.000</td>\n",
       "      <td>108.400</td>\n",
       "      <td>54.6467</td>\n",
       "      <td>NaN</td>\n",
       "    </tr>\n",
       "    <tr>\n",
       "      <th>1985-05-31</th>\n",
       "      <td>1709.0</td>\n",
       "      <td>107.200</td>\n",
       "      <td>108.800</td>\n",
       "      <td>54.7396</td>\n",
       "      <td>NaN</td>\n",
       "    </tr>\n",
       "    <tr>\n",
       "      <th>...</th>\n",
       "      <td>...</td>\n",
       "      <td>...</td>\n",
       "      <td>...</td>\n",
       "      <td>...</td>\n",
       "      <td>...</td>\n",
       "    </tr>\n",
       "    <tr>\n",
       "      <th>2025-06-30</th>\n",
       "      <td>1393.0</td>\n",
       "      <td>321.500</td>\n",
       "      <td>327.600</td>\n",
       "      <td>104.2115</td>\n",
       "      <td>624146.0</td>\n",
       "    </tr>\n",
       "    <tr>\n",
       "      <th>2025-07-31</th>\n",
       "      <td>1362.0</td>\n",
       "      <td>322.132</td>\n",
       "      <td>328.656</td>\n",
       "      <td>103.8194</td>\n",
       "      <td>628620.0</td>\n",
       "    </tr>\n",
       "    <tr>\n",
       "      <th>2025-08-31</th>\n",
       "      <td>1330.0</td>\n",
       "      <td>323.364</td>\n",
       "      <td>329.793</td>\n",
       "      <td>103.9203</td>\n",
       "      <td>632490.0</td>\n",
       "    </tr>\n",
       "    <tr>\n",
       "      <th>2025-09-30</th>\n",
       "      <td>NaN</td>\n",
       "      <td>NaN</td>\n",
       "      <td>NaN</td>\n",
       "      <td>NaN</td>\n",
       "      <td>NaN</td>\n",
       "    </tr>\n",
       "    <tr>\n",
       "      <th>2025-10-31</th>\n",
       "      <td>NaN</td>\n",
       "      <td>NaN</td>\n",
       "      <td>NaN</td>\n",
       "      <td>NaN</td>\n",
       "      <td>NaN</td>\n",
       "    </tr>\n",
       "  </tbody>\n",
       "</table>\n",
       "<p>490 rows × 5 columns</p>\n",
       "</div>"
      ],
      "text/plain": [
       "            Permits      CPI  CoreCPI  IndustrialProd  RealRetail\n",
       "DATE                                                             \n",
       "1985-01-31   1660.0  105.700  107.100         54.5270         NaN\n",
       "1985-02-28   1662.0  106.300  107.700         54.6871         NaN\n",
       "1985-03-31   1727.0  106.800  108.100         54.7673         NaN\n",
       "1985-04-30   1664.0  107.000  108.400         54.6467         NaN\n",
       "1985-05-31   1709.0  107.200  108.800         54.7396         NaN\n",
       "...             ...      ...      ...             ...         ...\n",
       "2025-06-30   1393.0  321.500  327.600        104.2115    624146.0\n",
       "2025-07-31   1362.0  322.132  328.656        103.8194    628620.0\n",
       "2025-08-31   1330.0  323.364  329.793        103.9203    632490.0\n",
       "2025-09-30      NaN      NaN      NaN             NaN         NaN\n",
       "2025-10-31      NaN      NaN      NaN             NaN         NaN\n",
       "\n",
       "[490 rows x 5 columns]"
      ]
     },
     "execution_count": 48,
     "metadata": {},
     "output_type": "execute_result"
    }
   ],
   "source": [
    "df_indicator_index"
   ]
  },
  {
   "cell_type": "markdown",
   "id": "88d41eeb",
   "metadata": {},
   "source": [
    "### "
   ]
  }
 ],
 "metadata": {
  "kernelspec": {
   "display_name": "Python 3",
   "language": "python",
   "name": "python3"
  },
  "language_info": {
   "codemirror_mode": {
    "name": "ipython",
    "version": 3
   },
   "file_extension": ".py",
   "mimetype": "text/x-python",
   "name": "python",
   "nbconvert_exporter": "python",
   "pygments_lexer": "ipython3",
   "version": "3.11.2"
  }
 },
 "nbformat": 4,
 "nbformat_minor": 5
}
