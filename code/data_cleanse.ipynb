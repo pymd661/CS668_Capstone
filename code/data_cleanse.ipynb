{
 "cells": [
  {
   "cell_type": "markdown",
   "id": "c24cb83f",
   "metadata": {
    "vscode": {
     "languageId": "plaintext"
    }
   },
   "source": [
    "# Data Clean Up"
   ]
  },
  {
   "cell_type": "markdown",
   "id": "36ca92f0",
   "metadata": {},
   "source": [
    "## Libraries"
   ]
  },
  {
   "cell_type": "code",
   "execution_count": 7,
   "id": "bc48a1df",
   "metadata": {},
   "outputs": [],
   "source": [
    "import pandas as pd\n",
    "import pandas_datareader.data as web\n",
    "import yfinance as yf\n",
    "import datetime\n",
    "import numpy as np\n",
    "import xlwings as xw\n",
    "from pathlib import Path\n",
    "import fred_functions"
   ]
  },
  {
   "cell_type": "markdown",
   "id": "706306d7",
   "metadata": {},
   "source": [
    "## ETF Daily Returns"
   ]
  },
  {
   "cell_type": "markdown",
   "id": "94b81da7",
   "metadata": {},
   "source": [
    "### Clean Up"
   ]
  },
  {
   "cell_type": "markdown",
   "id": "cd9d1b15",
   "metadata": {},
   "source": [
    "###### import ETF file"
   ]
  },
  {
   "cell_type": "code",
   "execution_count": 15,
   "id": "e53e345a",
   "metadata": {},
   "outputs": [],
   "source": [
    "df_returns = pd.read_excel('../df_returns.xlsx',index_col=0,sheet_name='Sheet1')"
   ]
  },
  {
   "cell_type": "markdown",
   "id": "a59c4304",
   "metadata": {},
   "source": [
    "###### Select \"SPY\" and \"VBMFX\". SPY inception was in 1993 while VBMFX was started in 1986. The data set will cover dates from February 1, 1993 to September 30, 2025"
   ]
  },
  {
   "cell_type": "code",
   "execution_count": null,
   "id": "c83401b3",
   "metadata": {},
   "outputs": [
    {
     "data": {
      "text/html": [
       "<div>\n",
       "<style scoped>\n",
       "    .dataframe tbody tr th:only-of-type {\n",
       "        vertical-align: middle;\n",
       "    }\n",
       "\n",
       "    .dataframe tbody tr th {\n",
       "        vertical-align: top;\n",
       "    }\n",
       "\n",
       "    .dataframe thead th {\n",
       "        text-align: right;\n",
       "    }\n",
       "</style>\n",
       "<table border=\"1\" class=\"dataframe\">\n",
       "  <thead>\n",
       "    <tr style=\"text-align: right;\">\n",
       "      <th></th>\n",
       "      <th>SPY</th>\n",
       "      <th>VBMFX</th>\n",
       "    </tr>\n",
       "    <tr>\n",
       "      <th>Date</th>\n",
       "      <th></th>\n",
       "      <th></th>\n",
       "    </tr>\n",
       "  </thead>\n",
       "  <tbody>\n",
       "    <tr>\n",
       "      <th>1993-02-01</th>\n",
       "      <td>24.485952</td>\n",
       "      <td>2.423037</td>\n",
       "    </tr>\n",
       "    <tr>\n",
       "      <th>1993-02-02</th>\n",
       "      <td>24.537830</td>\n",
       "      <td>2.418192</td>\n",
       "    </tr>\n",
       "    <tr>\n",
       "      <th>1993-02-03</th>\n",
       "      <td>24.797216</td>\n",
       "      <td>2.420614</td>\n",
       "    </tr>\n",
       "    <tr>\n",
       "      <th>1993-02-04</th>\n",
       "      <td>24.900978</td>\n",
       "      <td>2.425460</td>\n",
       "    </tr>\n",
       "    <tr>\n",
       "      <th>1993-02-05</th>\n",
       "      <td>24.883671</td>\n",
       "      <td>2.432732</td>\n",
       "    </tr>\n",
       "    <tr>\n",
       "      <th>...</th>\n",
       "      <td>...</td>\n",
       "      <td>...</td>\n",
       "    </tr>\n",
       "    <tr>\n",
       "      <th>2025-09-24</th>\n",
       "      <td>661.099976</td>\n",
       "      <td>9.770000</td>\n",
       "    </tr>\n",
       "    <tr>\n",
       "      <th>2025-09-25</th>\n",
       "      <td>658.049988</td>\n",
       "      <td>9.760000</td>\n",
       "    </tr>\n",
       "    <tr>\n",
       "      <th>2025-09-26</th>\n",
       "      <td>661.820007</td>\n",
       "      <td>9.760000</td>\n",
       "    </tr>\n",
       "    <tr>\n",
       "      <th>2025-09-29</th>\n",
       "      <td>663.679993</td>\n",
       "      <td>9.780000</td>\n",
       "    </tr>\n",
       "    <tr>\n",
       "      <th>2025-09-30</th>\n",
       "      <td>666.179993</td>\n",
       "      <td>9.770000</td>\n",
       "    </tr>\n",
       "  </tbody>\n",
       "</table>\n",
       "<p>8223 rows × 2 columns</p>\n",
       "</div>"
      ],
      "text/plain": [
       "                   SPY     VBMFX\n",
       "Date                            \n",
       "1993-02-01   24.485952  2.423037\n",
       "1993-02-02   24.537830  2.418192\n",
       "1993-02-03   24.797216  2.420614\n",
       "1993-02-04   24.900978  2.425460\n",
       "1993-02-05   24.883671  2.432732\n",
       "...                ...       ...\n",
       "2025-09-24  661.099976  9.770000\n",
       "2025-09-25  658.049988  9.760000\n",
       "2025-09-26  661.820007  9.760000\n",
       "2025-09-29  663.679993  9.780000\n",
       "2025-09-30  666.179993  9.770000\n",
       "\n",
       "[8223 rows x 2 columns]"
      ]
     },
     "execution_count": 20,
     "metadata": {},
     "output_type": "execute_result"
    }
   ],
   "source": [
    "df = df_returns[['SPY','VBMFX']]\n",
    "df = df.loc['1993-02-01':'2025-09-30']"
   ]
  }
 ],
 "metadata": {
  "kernelspec": {
   "display_name": "Python 3",
   "language": "python",
   "name": "python3"
  },
  "language_info": {
   "codemirror_mode": {
    "name": "ipython",
    "version": 3
   },
   "file_extension": ".py",
   "mimetype": "text/x-python",
   "name": "python",
   "nbconvert_exporter": "python",
   "pygments_lexer": "ipython3",
   "version": "3.11.2"
  }
 },
 "nbformat": 4,
 "nbformat_minor": 5
}
