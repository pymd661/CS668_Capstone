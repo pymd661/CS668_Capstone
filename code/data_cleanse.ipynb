{
 "cells": [
  {
   "cell_type": "markdown",
   "id": "c24cb83f",
   "metadata": {
    "vscode": {
     "languageId": "plaintext"
    }
   },
   "source": [
    "# Data Clean Up"
   ]
  },
  {
   "cell_type": "markdown",
   "id": "36ca92f0",
   "metadata": {},
   "source": [
    "## Libraries"
   ]
  },
  {
   "cell_type": "code",
   "execution_count": 19,
   "id": "bc48a1df",
   "metadata": {},
   "outputs": [],
   "source": [
    "import pandas as pd\n",
    "import pandas_datareader.data as web\n",
    "import yfinance as yf\n",
    "import datetime\n",
    "import numpy as np\n",
    "import xlwings as xw\n",
    "from pathlib import Path\n",
    "import fred_functions as ff"
   ]
  },
  {
   "cell_type": "markdown",
   "id": "706306d7",
   "metadata": {},
   "source": [
    "## ETF Daily Returns"
   ]
  },
  {
   "cell_type": "markdown",
   "id": "94b81da7",
   "metadata": {},
   "source": [
    "### Data Clean Up"
   ]
  },
  {
   "cell_type": "markdown",
   "id": "cd9d1b15",
   "metadata": {},
   "source": [
    "###### import ETF file"
   ]
  },
  {
   "cell_type": "code",
   "execution_count": 20,
   "id": "e53e345a",
   "metadata": {},
   "outputs": [],
   "source": [
    "df_returns = pd.read_excel('../df_returns.xlsx',index_col=0,sheet_name='Sheet1')"
   ]
  },
  {
   "cell_type": "markdown",
   "id": "a59c4304",
   "metadata": {},
   "source": [
    "###### Select \"SPY\" and \"VBMFX\". SPY inception was in 1993 while VBMFX was started in 1986. The data set will cover dates from February 1, 1993 to September 30, 2025"
   ]
  },
  {
   "cell_type": "code",
   "execution_count": 21,
   "id": "c83401b3",
   "metadata": {},
   "outputs": [],
   "source": [
    "df = df_returns[['SPY','VBMFX']] # select tickets\n",
    "# df = df.loc['1993-02-01':'2025-09-30'] # filter for dates\n",
    "df = df.resample(\"ME\").last().dropna(how='all') # get the month end data, dropnas\n",
    "df_simple_returns = df.pct_change().dropna(how='all') # find the percent change from the prev month, dropnas\n",
    "df_log_returns = np.log(df/df.shift(1)).dropna(how=\"all\") # calc log returns, just in case we need it"
   ]
  },
  {
   "cell_type": "markdown",
   "id": "8c50b138",
   "metadata": {},
   "source": [
    "## Macro Indicators (FRED)"
   ]
  },
  {
   "cell_type": "markdown",
   "id": "363853fd",
   "metadata": {},
   "source": [
    "### Data Clean Up\n"
   ]
  },
  {
   "cell_type": "markdown",
   "id": "c8c489e7",
   "metadata": {},
   "source": [
    "###### import Macro File"
   ]
  },
  {
   "cell_type": "code",
   "execution_count": 22,
   "id": "646c2c00",
   "metadata": {},
   "outputs": [],
   "source": [
    "df_macro = pd.read_excel('../df_macro.xlsx',index_col=0,sheet_name='Sheet1')\n",
    "# df_macro = df_macro.loc['1990-01-01':'2025-09-30'] # filter for dates"
   ]
  },
  {
   "cell_type": "markdown",
   "id": "35e0a4f3",
   "metadata": {},
   "source": [
    "### GDP Data Preprocessing\n",
    "\n",
    "To prepare quarterly GDP data for our model, we perform a two-step process to handle its frequency and reporting lag:\n",
    "\n",
    "1.  **Resample to Monthly Frequency:** Since GDP is released **quarterly**, we first resample it to a monthly series. This is done using a **forward-fill** (`ffill`) method, where the GDP value for a given quarter is applied to each month within that quarter. For example, the Q1 GDP value is used for January, February, and March.\n",
    "\n",
    "2.  **Simulate Reporting Lag:** In practice, GDP figures are not known in real-time (e.g., January's final GDP might not be available until April). To simulate this delay and prevent lookahead bias, we **shift** the resampled monthly data forward. We will create four lagged features: a 1-month lag ,2-month lag, 3-month lag, and a 4-month lag."
   ]
  },
  {
   "cell_type": "code",
   "execution_count": null,
   "id": "c2179f88",
   "metadata": {},
   "outputs": [],
   "source": [
    "df_macro = ff.forward_fill(df_macro[['RealGDP']].copy())\n",
    "df_macro = ff.resample_me(df_macro)\n",
    "df_macro = ff.yoy_change(df_macro)\n",
    "df_macro_lag1 = ff.shift_lag(df_macro,lag_months=1).rename(columns={\"RealGDP\":\"RealGDP_lag1\"})\n",
    "df_macro_lag2 = ff.shift_lag(df_macro,lag_months=2).rename(columns={\"RealGDP\":\"RealGDP_lag2\"})\n",
    "df_macro_lag3 = ff.shift_lag(df_macro,lag_months=3).rename(columns={\"RealGDP\":\"RealGDP_lag3\"})\n",
    "df_macro_lag4 = ff.shift_lag(df_macro,lag_months=4).rename(columns={\"RealGDP\":\"RealGDP_lag4\"})\n",
    "df_macro_clean = df_macro.join([df_macro_lag1, df_macro_lag2,df_macro_lag3,df_macro_lag4], how='inner')"
   ]
  },
  {
   "cell_type": "markdown",
   "id": "88d41eeb",
   "metadata": {},
   "source": [
    "### "
   ]
  }
 ],
 "metadata": {
  "kernelspec": {
   "display_name": "Python 3",
   "language": "python",
   "name": "python3"
  },
  "language_info": {
   "codemirror_mode": {
    "name": "ipython",
    "version": 3
   },
   "file_extension": ".py",
   "mimetype": "text/x-python",
   "name": "python",
   "nbconvert_exporter": "python",
   "pygments_lexer": "ipython3",
   "version": "3.11.2"
  }
 },
 "nbformat": 4,
 "nbformat_minor": 5
}
