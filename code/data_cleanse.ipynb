{
 "cells": [
  {
   "cell_type": "markdown",
   "id": "c24cb83f",
   "metadata": {
    "vscode": {
     "languageId": "plaintext"
    }
   },
   "source": [
    "# Data Clean Up"
   ]
  },
  {
   "cell_type": "markdown",
   "id": "36ca92f0",
   "metadata": {},
   "source": [
    "## Libraries"
   ]
  },
  {
   "cell_type": "code",
   "execution_count": 1,
   "id": "bc48a1df",
   "metadata": {},
   "outputs": [],
   "source": [
    "import pandas as pd\n",
    "import pandas_datareader.data as web\n",
    "import yfinance as yf\n",
    "import datetime\n",
    "import numpy as np\n",
    "import xlwings as xw\n",
    "from pathlib import Path\n",
    "import fred_functions as ff"
   ]
  },
  {
   "cell_type": "markdown",
   "id": "706306d7",
   "metadata": {},
   "source": [
    "## ETF Daily Returns"
   ]
  },
  {
   "cell_type": "markdown",
   "id": "94b81da7",
   "metadata": {},
   "source": [
    "### Data Clean Up"
   ]
  },
  {
   "cell_type": "markdown",
   "id": "cd9d1b15",
   "metadata": {},
   "source": [
    "###### import ETF file"
   ]
  },
  {
   "cell_type": "code",
   "execution_count": 2,
   "id": "e53e345a",
   "metadata": {},
   "outputs": [],
   "source": [
    "df_returns = pd.read_excel('../df_returns.xlsx',index_col=0,sheet_name='Sheet1')"
   ]
  },
  {
   "cell_type": "markdown",
   "id": "a59c4304",
   "metadata": {},
   "source": [
    "###### Select \"SPY\" and \"VBMFX\". SPY inception was in 1993 while VBMFX was started in 1986. The data set will cover dates from February 1, 1993 to September 30, 2025"
   ]
  },
  {
   "cell_type": "code",
   "execution_count": 3,
   "id": "c83401b3",
   "metadata": {},
   "outputs": [],
   "source": [
    "df = df_returns[['SPY','VBMFX']] # select tickets\n",
    "df = df.loc['1993-02-01':'2025-09-30'] # filter for dates\n",
    "df = df.resample(\"ME\").last().dropna(how='all') # get the month end data, dropnas\n",
    "df_simple_returns = df.pct_change().dropna(how='all') # find the percent change from the prev month, dropnas\n",
    "df_log_returns = np.log(df/df.shift(1)).dropna(how=\"all\") # calc log returns, just in case we need it"
   ]
  },
  {
   "cell_type": "code",
   "execution_count": 4,
   "id": "5f154b0d",
   "metadata": {},
   "outputs": [
    {
     "name": "stdout",
     "output_type": "stream",
     "text": [
      "<class 'pandas.core.frame.DataFrame'>\n",
      "DatetimeIndex: 391 entries, 1993-03-31 to 2025-09-30\n",
      "Freq: ME\n",
      "Data columns (total 2 columns):\n",
      " #   Column  Non-Null Count  Dtype  \n",
      "---  ------  --------------  -----  \n",
      " 0   SPY     391 non-null    float64\n",
      " 1   VBMFX   391 non-null    float64\n",
      "dtypes: float64(2)\n",
      "memory usage: 9.2 KB\n"
     ]
    }
   ],
   "source": [
    "df_simple_returns.info()"
   ]
  },
  {
   "cell_type": "markdown",
   "id": "8c50b138",
   "metadata": {},
   "source": [
    "## Macro Indicators (FRED)"
   ]
  },
  {
   "cell_type": "markdown",
   "id": "363853fd",
   "metadata": {},
   "source": [
    "### Data Clean Up\n"
   ]
  },
  {
   "cell_type": "markdown",
   "id": "c8c489e7",
   "metadata": {},
   "source": [
    "###### import Macro File"
   ]
  },
  {
   "cell_type": "code",
   "execution_count": 5,
   "id": "646c2c00",
   "metadata": {},
   "outputs": [],
   "source": [
    "df_macro = pd.read_excel('../df_macro.xlsx',index_col=0,sheet_name='Sheet1')\n",
    "df_macro = df_macro.loc['1993-01-01':'2025-09-30'] # filter for dates"
   ]
  },
  {
   "cell_type": "markdown",
   "id": "663ede98",
   "metadata": {},
   "source": [
    "##### GDP"
   ]
  },
  {
   "cell_type": "markdown",
   "id": "39a6b204",
   "metadata": {},
   "source": [
    "######  GDP is released quarterly. An advanced estimate is first released a month after the quarter end. A second preliminary estiamte is relased a month after the advanced estaimte. Finally an adjusted number is relased a month after the second estimate. \n",
    "\n",
    "##### For our model, we would need to resample month end and forfarwd fill the missing values. This means the GDP for January will be the GDP value for Febraury and March. \n",
    "##### The next step is to shift the GDP values so we create a 2 month lag to simulate real time analysis. In practice, the January GDP might not be known until April or until June. To simulate this timing issue, we will shift or create a lag the GDP values by 1 month and 2 months."
   ]
  },
  {
   "cell_type": "code",
   "execution_count": 6,
   "id": "c2179f88",
   "metadata": {},
   "outputs": [
    {
     "data": {
      "text/plain": [
       "DATE\n",
       "1993-01-31    10576.275\n",
       "1993-02-28    10576.275\n",
       "1993-03-31    10576.275\n",
       "1993-04-30    10637.847\n",
       "1993-05-31    10637.847\n",
       "                ...    \n",
       "2025-05-31    23770.976\n",
       "2025-06-30    23770.976\n",
       "2025-07-31    23770.976\n",
       "2025-08-31    23770.976\n",
       "2025-09-30    23770.976\n",
       "Freq: ME, Name: RealGDP, Length: 393, dtype: float64"
      ]
     },
     "execution_count": 6,
     "metadata": {},
     "output_type": "execute_result"
    }
   ],
   "source": [
    "result = ff.forward_fill(df_macro['RealGDP'])\n",
    "ff.resample_me(result)"
   ]
  }
 ],
 "metadata": {
  "kernelspec": {
   "display_name": "Python 3",
   "language": "python",
   "name": "python3"
  },
  "language_info": {
   "codemirror_mode": {
    "name": "ipython",
    "version": 3
   },
   "file_extension": ".py",
   "mimetype": "text/x-python",
   "name": "python",
   "nbconvert_exporter": "python",
   "pygments_lexer": "ipython3",
   "version": "3.11.2"
  }
 },
 "nbformat": 4,
 "nbformat_minor": 5
}
