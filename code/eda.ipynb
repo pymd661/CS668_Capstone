{
 "cells": [
  {
   "cell_type": "code",
   "execution_count": 1,
   "id": "26332e41",
   "metadata": {},
   "outputs": [],
   "source": [
    "import pandas as pd"
   ]
  },
  {
   "cell_type": "code",
   "execution_count": 2,
   "id": "96fae190",
   "metadata": {},
   "outputs": [],
   "source": [
    "df_clean = pd.read_excel('../df_clean.xlsx',index_col=0,sheet_name='Sheet1')"
   ]
  },
  {
   "cell_type": "code",
   "execution_count": 4,
   "id": "23f3ddc4",
   "metadata": {},
   "outputs": [
    {
     "data": {
      "text/html": [
       "<div>\n",
       "<style scoped>\n",
       "    .dataframe tbody tr th:only-of-type {\n",
       "        vertical-align: middle;\n",
       "    }\n",
       "\n",
       "    .dataframe tbody tr th {\n",
       "        vertical-align: top;\n",
       "    }\n",
       "\n",
       "    .dataframe thead th {\n",
       "        text-align: right;\n",
       "    }\n",
       "</style>\n",
       "<table border=\"1\" class=\"dataframe\">\n",
       "  <thead>\n",
       "    <tr style=\"text-align: right;\">\n",
       "      <th></th>\n",
       "      <th>SPY</th>\n",
       "      <th>VBMFX</th>\n",
       "    </tr>\n",
       "  </thead>\n",
       "  <tbody>\n",
       "    <tr>\n",
       "      <th>1993-04-30</th>\n",
       "      <td>-0.025588</td>\n",
       "      <td>0.007439</td>\n",
       "    </tr>\n",
       "    <tr>\n",
       "      <th>1993-05-31</th>\n",
       "      <td>0.026970</td>\n",
       "      <td>0.001403</td>\n",
       "    </tr>\n",
       "    <tr>\n",
       "      <th>1993-06-30</th>\n",
       "      <td>0.003607</td>\n",
       "      <td>0.018065</td>\n",
       "    </tr>\n",
       "    <tr>\n",
       "      <th>1993-07-31</th>\n",
       "      <td>-0.004854</td>\n",
       "      <td>0.006092</td>\n",
       "    </tr>\n",
       "    <tr>\n",
       "      <th>1993-08-31</th>\n",
       "      <td>0.038327</td>\n",
       "      <td>0.016933</td>\n",
       "    </tr>\n",
       "    <tr>\n",
       "      <th>...</th>\n",
       "      <td>...</td>\n",
       "      <td>...</td>\n",
       "    </tr>\n",
       "    <tr>\n",
       "      <th>2025-05-31</th>\n",
       "      <td>0.062845</td>\n",
       "      <td>-0.007126</td>\n",
       "    </tr>\n",
       "    <tr>\n",
       "      <th>2025-06-30</th>\n",
       "      <td>0.051386</td>\n",
       "      <td>0.015713</td>\n",
       "    </tr>\n",
       "    <tr>\n",
       "      <th>2025-07-31</th>\n",
       "      <td>0.023032</td>\n",
       "      <td>-0.002986</td>\n",
       "    </tr>\n",
       "    <tr>\n",
       "      <th>2025-08-31</th>\n",
       "      <td>0.020520</td>\n",
       "      <td>0.011542</td>\n",
       "    </tr>\n",
       "    <tr>\n",
       "      <th>2025-09-30</th>\n",
       "      <td>0.035620</td>\n",
       "      <td>0.010419</td>\n",
       "    </tr>\n",
       "  </tbody>\n",
       "</table>\n",
       "<p>390 rows × 2 columns</p>\n",
       "</div>"
      ],
      "text/plain": [
       "                 SPY     VBMFX\n",
       "1993-04-30 -0.025588  0.007439\n",
       "1993-05-31  0.026970  0.001403\n",
       "1993-06-30  0.003607  0.018065\n",
       "1993-07-31 -0.004854  0.006092\n",
       "1993-08-31  0.038327  0.016933\n",
       "...              ...       ...\n",
       "2025-05-31  0.062845 -0.007126\n",
       "2025-06-30  0.051386  0.015713\n",
       "2025-07-31  0.023032 -0.002986\n",
       "2025-08-31  0.020520  0.011542\n",
       "2025-09-30  0.035620  0.010419\n",
       "\n",
       "[390 rows x 2 columns]"
      ]
     },
     "execution_count": 4,
     "metadata": {},
     "output_type": "execute_result"
    }
   ],
   "source": [
    "df_clean[[\"SPY\",\"VBMFX\"]]"
   ]
  }
 ],
 "metadata": {
  "kernelspec": {
   "display_name": "Python 3",
   "language": "python",
   "name": "python3"
  },
  "language_info": {
   "codemirror_mode": {
    "name": "ipython",
    "version": 3
   },
   "file_extension": ".py",
   "mimetype": "text/x-python",
   "name": "python",
   "nbconvert_exporter": "python",
   "pygments_lexer": "ipython3",
   "version": "3.11.2"
  }
 },
 "nbformat": 4,
 "nbformat_minor": 5
}
